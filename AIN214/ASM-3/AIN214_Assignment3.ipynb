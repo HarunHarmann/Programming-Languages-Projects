{
 "cells": [
  {
   "cell_type": "markdown",
   "id": "61363df5",
   "metadata": {
    "id": "61363df5"
   },
   "source": [
    "### Question 1)\n",
    "Read the given dataset as a dataframe and check for missing values"
   ]
  },
  {
   "cell_type": "code",
   "execution_count": 2,
   "id": "2e667fbe",
   "metadata": {},
   "outputs": [],
   "source": [
    "import numpy as np\n",
    "import pandas as pd\n",
    "import seaborn as sns\n",
    "import matplotlib.pyplot as plt"
   ]
  },
  {
   "cell_type": "code",
   "execution_count": 3,
   "id": "ccce464c",
   "metadata": {},
   "outputs": [
    {
     "data": {
      "text/html": [
       "<div>\n",
       "<style scoped>\n",
       "    .dataframe tbody tr th:only-of-type {\n",
       "        vertical-align: middle;\n",
       "    }\n",
       "\n",
       "    .dataframe tbody tr th {\n",
       "        vertical-align: top;\n",
       "    }\n",
       "\n",
       "    .dataframe thead th {\n",
       "        text-align: right;\n",
       "    }\n",
       "</style>\n",
       "<table border=\"1\" class=\"dataframe\">\n",
       "  <thead>\n",
       "    <tr style=\"text-align: right;\">\n",
       "      <th></th>\n",
       "      <th>carat</th>\n",
       "      <th>cut</th>\n",
       "      <th>color</th>\n",
       "      <th>clarity</th>\n",
       "      <th>depth</th>\n",
       "      <th>table</th>\n",
       "      <th>price</th>\n",
       "      <th>x</th>\n",
       "      <th>y</th>\n",
       "      <th>z</th>\n",
       "    </tr>\n",
       "  </thead>\n",
       "  <tbody>\n",
       "    <tr>\n",
       "      <th>0</th>\n",
       "      <td>NaN</td>\n",
       "      <td>NaN</td>\n",
       "      <td>NaN</td>\n",
       "      <td>NaN</td>\n",
       "      <td>NaN</td>\n",
       "      <td>NaN</td>\n",
       "      <td>NaN</td>\n",
       "      <td>NaN</td>\n",
       "      <td>NaN</td>\n",
       "      <td>NaN</td>\n",
       "    </tr>\n",
       "    <tr>\n",
       "      <th>1</th>\n",
       "      <td>NaN</td>\n",
       "      <td>NaN</td>\n",
       "      <td>NaN</td>\n",
       "      <td>NaN</td>\n",
       "      <td>NaN</td>\n",
       "      <td>NaN</td>\n",
       "      <td>NaN</td>\n",
       "      <td>NaN</td>\n",
       "      <td>NaN</td>\n",
       "      <td>NaN</td>\n",
       "    </tr>\n",
       "    <tr>\n",
       "      <th>2</th>\n",
       "      <td>NaN</td>\n",
       "      <td>NaN</td>\n",
       "      <td>NaN</td>\n",
       "      <td>NaN</td>\n",
       "      <td>NaN</td>\n",
       "      <td>NaN</td>\n",
       "      <td>NaN</td>\n",
       "      <td>NaN</td>\n",
       "      <td>NaN</td>\n",
       "      <td>NaN</td>\n",
       "    </tr>\n",
       "    <tr>\n",
       "      <th>3</th>\n",
       "      <td>NaN</td>\n",
       "      <td>NaN</td>\n",
       "      <td>NaN</td>\n",
       "      <td>NaN</td>\n",
       "      <td>NaN</td>\n",
       "      <td>NaN</td>\n",
       "      <td>NaN</td>\n",
       "      <td>NaN</td>\n",
       "      <td>NaN</td>\n",
       "      <td>NaN</td>\n",
       "    </tr>\n",
       "    <tr>\n",
       "      <th>4</th>\n",
       "      <td>NaN</td>\n",
       "      <td>NaN</td>\n",
       "      <td>NaN</td>\n",
       "      <td>NaN</td>\n",
       "      <td>NaN</td>\n",
       "      <td>NaN</td>\n",
       "      <td>NaN</td>\n",
       "      <td>NaN</td>\n",
       "      <td>NaN</td>\n",
       "      <td>NaN</td>\n",
       "    </tr>\n",
       "    <tr>\n",
       "      <th>...</th>\n",
       "      <td>...</td>\n",
       "      <td>...</td>\n",
       "      <td>...</td>\n",
       "      <td>...</td>\n",
       "      <td>...</td>\n",
       "      <td>...</td>\n",
       "      <td>...</td>\n",
       "      <td>...</td>\n",
       "      <td>...</td>\n",
       "      <td>...</td>\n",
       "    </tr>\n",
       "    <tr>\n",
       "      <th>53935</th>\n",
       "      <td>NaN</td>\n",
       "      <td>NaN</td>\n",
       "      <td>NaN</td>\n",
       "      <td>NaN</td>\n",
       "      <td>NaN</td>\n",
       "      <td>NaN</td>\n",
       "      <td>NaN</td>\n",
       "      <td>NaN</td>\n",
       "      <td>NaN</td>\n",
       "      <td>NaN</td>\n",
       "    </tr>\n",
       "    <tr>\n",
       "      <th>53936</th>\n",
       "      <td>NaN</td>\n",
       "      <td>NaN</td>\n",
       "      <td>NaN</td>\n",
       "      <td>NaN</td>\n",
       "      <td>NaN</td>\n",
       "      <td>NaN</td>\n",
       "      <td>NaN</td>\n",
       "      <td>NaN</td>\n",
       "      <td>NaN</td>\n",
       "      <td>NaN</td>\n",
       "    </tr>\n",
       "    <tr>\n",
       "      <th>53937</th>\n",
       "      <td>NaN</td>\n",
       "      <td>NaN</td>\n",
       "      <td>NaN</td>\n",
       "      <td>NaN</td>\n",
       "      <td>NaN</td>\n",
       "      <td>NaN</td>\n",
       "      <td>NaN</td>\n",
       "      <td>NaN</td>\n",
       "      <td>NaN</td>\n",
       "      <td>NaN</td>\n",
       "    </tr>\n",
       "    <tr>\n",
       "      <th>53938</th>\n",
       "      <td>NaN</td>\n",
       "      <td>NaN</td>\n",
       "      <td>NaN</td>\n",
       "      <td>NaN</td>\n",
       "      <td>NaN</td>\n",
       "      <td>NaN</td>\n",
       "      <td>NaN</td>\n",
       "      <td>NaN</td>\n",
       "      <td>NaN</td>\n",
       "      <td>NaN</td>\n",
       "    </tr>\n",
       "    <tr>\n",
       "      <th>53939</th>\n",
       "      <td>NaN</td>\n",
       "      <td>NaN</td>\n",
       "      <td>NaN</td>\n",
       "      <td>NaN</td>\n",
       "      <td>NaN</td>\n",
       "      <td>NaN</td>\n",
       "      <td>NaN</td>\n",
       "      <td>NaN</td>\n",
       "      <td>NaN</td>\n",
       "      <td>NaN</td>\n",
       "    </tr>\n",
       "  </tbody>\n",
       "</table>\n",
       "<p>53940 rows × 10 columns</p>\n",
       "</div>"
      ],
      "text/plain": [
       "       carat  cut color clarity  depth  table  price   x   y   z\n",
       "0        NaN  NaN   NaN     NaN    NaN    NaN    NaN NaN NaN NaN\n",
       "1        NaN  NaN   NaN     NaN    NaN    NaN    NaN NaN NaN NaN\n",
       "2        NaN  NaN   NaN     NaN    NaN    NaN    NaN NaN NaN NaN\n",
       "3        NaN  NaN   NaN     NaN    NaN    NaN    NaN NaN NaN NaN\n",
       "4        NaN  NaN   NaN     NaN    NaN    NaN    NaN NaN NaN NaN\n",
       "...      ...  ...   ...     ...    ...    ...    ...  ..  ..  ..\n",
       "53935    NaN  NaN   NaN     NaN    NaN    NaN    NaN NaN NaN NaN\n",
       "53936    NaN  NaN   NaN     NaN    NaN    NaN    NaN NaN NaN NaN\n",
       "53937    NaN  NaN   NaN     NaN    NaN    NaN    NaN NaN NaN NaN\n",
       "53938    NaN  NaN   NaN     NaN    NaN    NaN    NaN NaN NaN NaN\n",
       "53939    NaN  NaN   NaN     NaN    NaN    NaN    NaN NaN NaN NaN\n",
       "\n",
       "[53940 rows x 10 columns]"
      ]
     },
     "metadata": {},
     "output_type": "display_data"
    }
   ],
   "source": [
    "# solution code\n",
    "df = pd.read_csv(\"jewel.csv\")\n",
    "checkNull = pd.isnull(df)\n",
    "display(df[checkNull])\n"
   ]
  },
  {
   "cell_type": "code",
   "execution_count": null,
   "id": "54e33e13",
   "metadata": {},
   "outputs": [],
   "source": []
  },
  {
   "cell_type": "markdown",
   "id": "ea91c3ca",
   "metadata": {
    "id": "ea91c3ca"
   },
   "source": [
    "### Question 2)\n",
    "Create line plots for 'y', 'z', 'depth', and 'table' attributes versus price separately in order to check for potential outliers."
   ]
  },
  {
   "cell_type": "code",
   "execution_count": null,
   "id": "748d60ef",
   "metadata": {},
   "outputs": [],
   "source": []
  },
  {
   "cell_type": "code",
   "execution_count": 4,
   "id": "37fd9c24",
   "metadata": {},
   "outputs": [
    {
     "data": {
      "text/plain": [
       "<AxesSubplot:xlabel='table'>"
      ]
     },
     "execution_count": 4,
     "metadata": {},
     "output_type": "execute_result"
    },
    {
     "data": {
      "image/png": "[encoded data removed]",
      "text/plain": [
       "<Figure size 720x360 with 1 Axes>"
      ]
     },
     "metadata": {
      "needs_background": "light"
     },
     "output_type": "display_data"
    },
    {
     "data": {
      "image/png": "[encoded data removed]",
      "text/plain": [
       "<Figure size 720x360 with 1 Axes>"
      ]
     },
     "metadata": {
      "needs_background": "light"
     },
     "output_type": "display_data"
    },
    {
     "data": {
      "image/png": "[encoded data removed]",
      "text/plain": [
       "<Figure size 720x360 with 1 Axes>"
      ]
     },
     "metadata": {
      "needs_background": "light"
     },
     "output_type": "display_data"
    },
    {
     "data": {
      "image/png": "[encoded data removed]",
      "text/plain": [
       "<Figure size 720x360 with 1 Axes>"
      ]
     },
     "metadata": {
      "needs_background": "light"
     },
     "output_type": "display_data"
    }
   ],
   "source": [
    "# solution code\n",
    "pivot1 = pd.pivot_table(data = df, values = ['y','z','depth','table'], columns = 'price')\n",
    "plt.rcParams[\"figure.figsize\"] = [10.0,5.0]\n",
    "df.plot(kind = \"line\", x = 'y', y='price')\n",
    "df.plot(kind = \"line\", x = 'z', y= 'price',color = \"r\")\n",
    "df.plot(kind = \"line\", x = 'depth', y= 'price',color = \"y\")\n",
    "df.plot(kind = \"line\", x = 'table', y= 'price',color = \"g\")\n",
    "\n"
   ]
  },
  {
   "cell_type": "markdown",
   "id": "cbf10742",
   "metadata": {
    "id": "cbf10742"
   },
   "source": [
    "### Question 3)\n",
    "\n",
    "Find and remove outliers by analyzing the above output of question 2. Explain your outlier detection process."
   ]
  },
  {
   "cell_type": "code",
   "execution_count": 5,
   "id": "1bc7f4af",
   "metadata": {},
   "outputs": [
    {
     "name": "stderr",
     "output_type": "stream",
     "text": [
      "<ipython-input-5-e570be3cebe9>:9: FutureWarning: Automatic reindexing on DataFrame vs Series comparisons is deprecated and will raise ValueError in a future version.  Do `left, right = left.align(right, axis=1, copy=False)` before e.g. `left == right`\n",
      "  df = df[~((df[cols] < (Q1 - 1.5 * IQR)) |(df[cols] > (Q3 + 1.5 * IQR))).any(axis=1)]\n",
      "<ipython-input-5-e570be3cebe9>:9: FutureWarning: Automatic reindexing on DataFrame vs Series comparisons is deprecated and will raise ValueError in a future version.  Do `left, right = left.align(right, axis=1, copy=False)` before e.g. `left == right`\n",
      "  df = df[~((df[cols] < (Q1 - 1.5 * IQR)) |(df[cols] > (Q3 + 1.5 * IQR))).any(axis=1)]\n"
     ]
    },
    {
     "data": {
      "text/plain": [
       "<AxesSubplot:xlabel='table'>"
      ]
     },
     "execution_count": 5,
     "metadata": {},
     "output_type": "execute_result"
    },
    {
     "data": {
      "image/png": "[encoded data removed]",
      "text/plain": [
       "<Figure size 720x360 with 1 Axes>"
      ]
     },
     "metadata": {
      "needs_background": "light"
     },
     "output_type": "display_data"
    },
    {
     "data": {
      "image/png": "[encoded data removed]",
      "text/plain": [
       "<Figure size 720x360 with 1 Axes>"
      ]
     },
     "metadata": {
      "needs_background": "light"
     },
     "output_type": "display_data"
    },
    {
     "data": {
      "image/png": "[encoded data removed]",
      "text/plain": [
       "<Figure size 720x360 with 1 Axes>"
      ]
     },
     "metadata": {
      "needs_background": "light"
     },
     "output_type": "display_data"
    },
    {
     "data": {
      "image/png": "[encoded data removed]",
      "text/plain": [
       "<Figure size 720x360 with 1 Axes>"
      ]
     },
     "metadata": {
      "needs_background": "light"
     },
     "output_type": "display_data"
    }
   ],
   "source": [
    "# solution code\n",
    "\n",
    "Q1 = df.quantile(0.25)\n",
    "Q3 = df.quantile(0.75)\n",
    "IQR = Q3 - Q1\n",
    "\n",
    "cols = ['y','z','depth','table']\n",
    "\n",
    "df = df[~((df[cols] < (Q1 - 1.5 * IQR)) |(df[cols] > (Q3 + 1.5 * IQR))).any(axis=1)]\n",
    "\n",
    "df.plot(kind = \"line\", x = 'y', y='price')\n",
    "df.plot(kind = \"line\", x = 'z', y= 'price',color = \"r\")\n",
    "df.plot(kind = \"line\", x = 'depth', y= 'price',color = \"y\")\n",
    "df.plot(kind = \"line\", x = 'table', y= 'price',color = \"g\")\n",
    "\n",
    "# I used interquartilerange (IQR) process for detection of outliers. Then updated the dataframe. \n",
    "\n",
    "\n"
   ]
  },
  {
   "cell_type": "code",
   "execution_count": null,
   "id": "bd4248d6",
   "metadata": {},
   "outputs": [],
   "source": []
  },
  {
   "cell_type": "code",
   "execution_count": 6,
   "id": "423530a4",
   "metadata": {},
   "outputs": [
    {
     "data": {
      "text/html": [
       "<div>\n",
       "<style scoped>\n",
       "    .dataframe tbody tr th:only-of-type {\n",
       "        vertical-align: middle;\n",
       "    }\n",
       "\n",
       "    .dataframe tbody tr th {\n",
       "        vertical-align: top;\n",
       "    }\n",
       "\n",
       "    .dataframe thead th {\n",
       "        text-align: right;\n",
       "    }\n",
       "</style>\n",
       "<table border=\"1\" class=\"dataframe\">\n",
       "  <thead>\n",
       "    <tr style=\"text-align: right;\">\n",
       "      <th></th>\n",
       "      <th>carat</th>\n",
       "      <th>cut</th>\n",
       "      <th>color</th>\n",
       "      <th>clarity</th>\n",
       "      <th>depth</th>\n",
       "      <th>table</th>\n",
       "      <th>price</th>\n",
       "      <th>x</th>\n",
       "      <th>y</th>\n",
       "      <th>z</th>\n",
       "    </tr>\n",
       "  </thead>\n",
       "  <tbody>\n",
       "    <tr>\n",
       "      <th>0</th>\n",
       "      <td>0.23</td>\n",
       "      <td>Ideal</td>\n",
       "      <td>E</td>\n",
       "      <td>SI2</td>\n",
       "      <td>61.5</td>\n",
       "      <td>55.0</td>\n",
       "      <td>326</td>\n",
       "      <td>3.95</td>\n",
       "      <td>3.98</td>\n",
       "      <td>2.43</td>\n",
       "    </tr>\n",
       "    <tr>\n",
       "      <th>1</th>\n",
       "      <td>0.21</td>\n",
       "      <td>Premium</td>\n",
       "      <td>E</td>\n",
       "      <td>SI1</td>\n",
       "      <td>59.8</td>\n",
       "      <td>61.0</td>\n",
       "      <td>326</td>\n",
       "      <td>3.89</td>\n",
       "      <td>3.84</td>\n",
       "      <td>2.31</td>\n",
       "    </tr>\n",
       "    <tr>\n",
       "      <th>3</th>\n",
       "      <td>0.29</td>\n",
       "      <td>Premium</td>\n",
       "      <td>I</td>\n",
       "      <td>VS2</td>\n",
       "      <td>62.4</td>\n",
       "      <td>58.0</td>\n",
       "      <td>334</td>\n",
       "      <td>4.20</td>\n",
       "      <td>4.23</td>\n",
       "      <td>2.63</td>\n",
       "    </tr>\n",
       "    <tr>\n",
       "      <th>4</th>\n",
       "      <td>0.31</td>\n",
       "      <td>Good</td>\n",
       "      <td>J</td>\n",
       "      <td>SI2</td>\n",
       "      <td>63.3</td>\n",
       "      <td>58.0</td>\n",
       "      <td>335</td>\n",
       "      <td>4.34</td>\n",
       "      <td>4.35</td>\n",
       "      <td>2.75</td>\n",
       "    </tr>\n",
       "    <tr>\n",
       "      <th>5</th>\n",
       "      <td>0.24</td>\n",
       "      <td>Very Good</td>\n",
       "      <td>J</td>\n",
       "      <td>VVS2</td>\n",
       "      <td>62.8</td>\n",
       "      <td>57.0</td>\n",
       "      <td>336</td>\n",
       "      <td>3.94</td>\n",
       "      <td>3.96</td>\n",
       "      <td>2.48</td>\n",
       "    </tr>\n",
       "    <tr>\n",
       "      <th>...</th>\n",
       "      <td>...</td>\n",
       "      <td>...</td>\n",
       "      <td>...</td>\n",
       "      <td>...</td>\n",
       "      <td>...</td>\n",
       "      <td>...</td>\n",
       "      <td>...</td>\n",
       "      <td>...</td>\n",
       "      <td>...</td>\n",
       "      <td>...</td>\n",
       "    </tr>\n",
       "    <tr>\n",
       "      <th>53935</th>\n",
       "      <td>0.72</td>\n",
       "      <td>Ideal</td>\n",
       "      <td>D</td>\n",
       "      <td>SI1</td>\n",
       "      <td>60.8</td>\n",
       "      <td>57.0</td>\n",
       "      <td>2757</td>\n",
       "      <td>5.75</td>\n",
       "      <td>5.76</td>\n",
       "      <td>3.50</td>\n",
       "    </tr>\n",
       "    <tr>\n",
       "      <th>53936</th>\n",
       "      <td>0.72</td>\n",
       "      <td>Good</td>\n",
       "      <td>D</td>\n",
       "      <td>SI1</td>\n",
       "      <td>63.1</td>\n",
       "      <td>55.0</td>\n",
       "      <td>2757</td>\n",
       "      <td>5.69</td>\n",
       "      <td>5.75</td>\n",
       "      <td>3.61</td>\n",
       "    </tr>\n",
       "    <tr>\n",
       "      <th>53937</th>\n",
       "      <td>0.70</td>\n",
       "      <td>Very Good</td>\n",
       "      <td>D</td>\n",
       "      <td>SI1</td>\n",
       "      <td>62.8</td>\n",
       "      <td>60.0</td>\n",
       "      <td>2757</td>\n",
       "      <td>5.66</td>\n",
       "      <td>5.68</td>\n",
       "      <td>3.56</td>\n",
       "    </tr>\n",
       "    <tr>\n",
       "      <th>53938</th>\n",
       "      <td>0.86</td>\n",
       "      <td>Premium</td>\n",
       "      <td>H</td>\n",
       "      <td>SI2</td>\n",
       "      <td>61.0</td>\n",
       "      <td>58.0</td>\n",
       "      <td>2757</td>\n",
       "      <td>6.15</td>\n",
       "      <td>6.12</td>\n",
       "      <td>3.74</td>\n",
       "    </tr>\n",
       "    <tr>\n",
       "      <th>53939</th>\n",
       "      <td>0.75</td>\n",
       "      <td>Ideal</td>\n",
       "      <td>D</td>\n",
       "      <td>SI2</td>\n",
       "      <td>62.2</td>\n",
       "      <td>55.0</td>\n",
       "      <td>2757</td>\n",
       "      <td>5.83</td>\n",
       "      <td>5.87</td>\n",
       "      <td>3.64</td>\n",
       "    </tr>\n",
       "  </tbody>\n",
       "</table>\n",
       "<p>50971 rows × 10 columns</p>\n",
       "</div>"
      ],
      "text/plain": [
       "       carat        cut color clarity  depth  table  price     x     y     z\n",
       "0       0.23      Ideal     E     SI2   61.5   55.0    326  3.95  3.98  2.43\n",
       "1       0.21    Premium     E     SI1   59.8   61.0    326  3.89  3.84  2.31\n",
       "3       0.29    Premium     I     VS2   62.4   58.0    334  4.20  4.23  2.63\n",
       "4       0.31       Good     J     SI2   63.3   58.0    335  4.34  4.35  2.75\n",
       "5       0.24  Very Good     J    VVS2   62.8   57.0    336  3.94  3.96  2.48\n",
       "...      ...        ...   ...     ...    ...    ...    ...   ...   ...   ...\n",
       "53935   0.72      Ideal     D     SI1   60.8   57.0   2757  5.75  5.76  3.50\n",
       "53936   0.72       Good     D     SI1   63.1   55.0   2757  5.69  5.75  3.61\n",
       "53937   0.70  Very Good     D     SI1   62.8   60.0   2757  5.66  5.68  3.56\n",
       "53938   0.86    Premium     H     SI2   61.0   58.0   2757  6.15  6.12  3.74\n",
       "53939   0.75      Ideal     D     SI2   62.2   55.0   2757  5.83  5.87  3.64\n",
       "\n",
       "[50971 rows x 10 columns]"
      ]
     },
     "execution_count": 6,
     "metadata": {},
     "output_type": "execute_result"
    }
   ],
   "source": [
    "df"
   ]
  },
  {
   "cell_type": "code",
   "execution_count": null,
   "id": "42501652",
   "metadata": {},
   "outputs": [],
   "source": []
  },
  {
   "cell_type": "markdown",
   "id": "39770d1d",
   "metadata": {
    "id": "39770d1d"
   },
   "source": [
    "### Question 4)\n",
    "Replace ordinal values (cut, color, clarity) according to rules below:\n",
    "- For \"cut\": 'Good':1, 'Very Good':2, 'Fair':3, 'Ideal':4, 'Premium':5\n",
    "- For \"color\": 'J':1, 'I':2, 'H':3, 'G':4, 'F':5, 'E':6, 'D':7\n",
    "- For \"clarity\": 'I1':1, 'SI1':2, 'SI2':3, 'VS1':4, 'VS2':5, 'VVS1':6, 'VVS2':7, 'IF':8"
   ]
  },
  {
   "cell_type": "code",
   "execution_count": 7,
   "id": "0c052d55",
   "metadata": {},
   "outputs": [
    {
     "name": "stderr",
     "output_type": "stream",
     "text": [
      "<ipython-input-7-002f1759fa5b>:12: SettingWithCopyWarning: \n",
      "A value is trying to be set on a copy of a slice from a DataFrame.\n",
      "Try using .loc[row_indexer,col_indexer] = value instead\n",
      "\n",
      "See the caveats in the documentation: https://pandas.pydata.org/pandas-docs/stable/user_guide/indexing.html#returning-a-view-versus-a-copy\n",
      "  df['cut'] = cutlist\n",
      "<ipython-input-7-002f1759fa5b>:27: SettingWithCopyWarning: \n",
      "A value is trying to be set on a copy of a slice from a DataFrame.\n",
      "Try using .loc[row_indexer,col_indexer] = value instead\n",
      "\n",
      "See the caveats in the documentation: https://pandas.pydata.org/pandas-docs/stable/user_guide/indexing.html#returning-a-view-versus-a-copy\n",
      "  df['color'] = colorlist\n",
      "<ipython-input-7-002f1759fa5b>:42: SettingWithCopyWarning: \n",
      "A value is trying to be set on a copy of a slice from a DataFrame.\n",
      "Try using .loc[row_indexer,col_indexer] = value instead\n",
      "\n",
      "See the caveats in the documentation: https://pandas.pydata.org/pandas-docs/stable/user_guide/indexing.html#returning-a-view-versus-a-copy\n",
      "  df['clarity'] = claritylist\n"
     ]
    },
    {
     "data": {
      "text/html": [
       "<div>\n",
       "<style scoped>\n",
       "    .dataframe tbody tr th:only-of-type {\n",
       "        vertical-align: middle;\n",
       "    }\n",
       "\n",
       "    .dataframe tbody tr th {\n",
       "        vertical-align: top;\n",
       "    }\n",
       "\n",
       "    .dataframe thead th {\n",
       "        text-align: right;\n",
       "    }\n",
       "</style>\n",
       "<table border=\"1\" class=\"dataframe\">\n",
       "  <thead>\n",
       "    <tr style=\"text-align: right;\">\n",
       "      <th></th>\n",
       "      <th>carat</th>\n",
       "      <th>cut</th>\n",
       "      <th>color</th>\n",
       "      <th>clarity</th>\n",
       "      <th>depth</th>\n",
       "      <th>table</th>\n",
       "      <th>price</th>\n",
       "      <th>x</th>\n",
       "      <th>y</th>\n",
       "      <th>z</th>\n",
       "    </tr>\n",
       "  </thead>\n",
       "  <tbody>\n",
       "    <tr>\n",
       "      <th>0</th>\n",
       "      <td>0.23</td>\n",
       "      <td>4</td>\n",
       "      <td>6</td>\n",
       "      <td>3</td>\n",
       "      <td>61.5</td>\n",
       "      <td>55.0</td>\n",
       "      <td>326</td>\n",
       "      <td>3.95</td>\n",
       "      <td>3.98</td>\n",
       "      <td>2.43</td>\n",
       "    </tr>\n",
       "    <tr>\n",
       "      <th>1</th>\n",
       "      <td>0.21</td>\n",
       "      <td>5</td>\n",
       "      <td>6</td>\n",
       "      <td>2</td>\n",
       "      <td>59.8</td>\n",
       "      <td>61.0</td>\n",
       "      <td>326</td>\n",
       "      <td>3.89</td>\n",
       "      <td>3.84</td>\n",
       "      <td>2.31</td>\n",
       "    </tr>\n",
       "    <tr>\n",
       "      <th>3</th>\n",
       "      <td>0.29</td>\n",
       "      <td>5</td>\n",
       "      <td>2</td>\n",
       "      <td>5</td>\n",
       "      <td>62.4</td>\n",
       "      <td>58.0</td>\n",
       "      <td>334</td>\n",
       "      <td>4.20</td>\n",
       "      <td>4.23</td>\n",
       "      <td>2.63</td>\n",
       "    </tr>\n",
       "    <tr>\n",
       "      <th>4</th>\n",
       "      <td>0.31</td>\n",
       "      <td>1</td>\n",
       "      <td>1</td>\n",
       "      <td>3</td>\n",
       "      <td>63.3</td>\n",
       "      <td>58.0</td>\n",
       "      <td>335</td>\n",
       "      <td>4.34</td>\n",
       "      <td>4.35</td>\n",
       "      <td>2.75</td>\n",
       "    </tr>\n",
       "    <tr>\n",
       "      <th>5</th>\n",
       "      <td>0.24</td>\n",
       "      <td>2</td>\n",
       "      <td>1</td>\n",
       "      <td>7</td>\n",
       "      <td>62.8</td>\n",
       "      <td>57.0</td>\n",
       "      <td>336</td>\n",
       "      <td>3.94</td>\n",
       "      <td>3.96</td>\n",
       "      <td>2.48</td>\n",
       "    </tr>\n",
       "    <tr>\n",
       "      <th>...</th>\n",
       "      <td>...</td>\n",
       "      <td>...</td>\n",
       "      <td>...</td>\n",
       "      <td>...</td>\n",
       "      <td>...</td>\n",
       "      <td>...</td>\n",
       "      <td>...</td>\n",
       "      <td>...</td>\n",
       "      <td>...</td>\n",
       "      <td>...</td>\n",
       "    </tr>\n",
       "    <tr>\n",
       "      <th>53935</th>\n",
       "      <td>0.72</td>\n",
       "      <td>4</td>\n",
       "      <td>7</td>\n",
       "      <td>2</td>\n",
       "      <td>60.8</td>\n",
       "      <td>57.0</td>\n",
       "      <td>2757</td>\n",
       "      <td>5.75</td>\n",
       "      <td>5.76</td>\n",
       "      <td>3.50</td>\n",
       "    </tr>\n",
       "    <tr>\n",
       "      <th>53936</th>\n",
       "      <td>0.72</td>\n",
       "      <td>1</td>\n",
       "      <td>7</td>\n",
       "      <td>2</td>\n",
       "      <td>63.1</td>\n",
       "      <td>55.0</td>\n",
       "      <td>2757</td>\n",
       "      <td>5.69</td>\n",
       "      <td>5.75</td>\n",
       "      <td>3.61</td>\n",
       "    </tr>\n",
       "    <tr>\n",
       "      <th>53937</th>\n",
       "      <td>0.70</td>\n",
       "      <td>2</td>\n",
       "      <td>7</td>\n",
       "      <td>2</td>\n",
       "      <td>62.8</td>\n",
       "      <td>60.0</td>\n",
       "      <td>2757</td>\n",
       "      <td>5.66</td>\n",
       "      <td>5.68</td>\n",
       "      <td>3.56</td>\n",
       "    </tr>\n",
       "    <tr>\n",
       "      <th>53938</th>\n",
       "      <td>0.86</td>\n",
       "      <td>5</td>\n",
       "      <td>3</td>\n",
       "      <td>3</td>\n",
       "      <td>61.0</td>\n",
       "      <td>58.0</td>\n",
       "      <td>2757</td>\n",
       "      <td>6.15</td>\n",
       "      <td>6.12</td>\n",
       "      <td>3.74</td>\n",
       "    </tr>\n",
       "    <tr>\n",
       "      <th>53939</th>\n",
       "      <td>0.75</td>\n",
       "      <td>4</td>\n",
       "      <td>7</td>\n",
       "      <td>3</td>\n",
       "      <td>62.2</td>\n",
       "      <td>55.0</td>\n",
       "      <td>2757</td>\n",
       "      <td>5.83</td>\n",
       "      <td>5.87</td>\n",
       "      <td>3.64</td>\n",
       "    </tr>\n",
       "  </tbody>\n",
       "</table>\n",
       "<p>50971 rows × 10 columns</p>\n",
       "</div>"
      ],
      "text/plain": [
       "       carat  cut  color  clarity  depth  table  price     x     y     z\n",
       "0       0.23    4      6        3   61.5   55.0    326  3.95  3.98  2.43\n",
       "1       0.21    5      6        2   59.8   61.0    326  3.89  3.84  2.31\n",
       "3       0.29    5      2        5   62.4   58.0    334  4.20  4.23  2.63\n",
       "4       0.31    1      1        3   63.3   58.0    335  4.34  4.35  2.75\n",
       "5       0.24    2      1        7   62.8   57.0    336  3.94  3.96  2.48\n",
       "...      ...  ...    ...      ...    ...    ...    ...   ...   ...   ...\n",
       "53935   0.72    4      7        2   60.8   57.0   2757  5.75  5.76  3.50\n",
       "53936   0.72    1      7        2   63.1   55.0   2757  5.69  5.75  3.61\n",
       "53937   0.70    2      7        2   62.8   60.0   2757  5.66  5.68  3.56\n",
       "53938   0.86    5      3        3   61.0   58.0   2757  6.15  6.12  3.74\n",
       "53939   0.75    4      7        3   62.2   55.0   2757  5.83  5.87  3.64\n",
       "\n",
       "[50971 rows x 10 columns]"
      ]
     },
     "execution_count": 7,
     "metadata": {},
     "output_type": "execute_result"
    }
   ],
   "source": [
    "# solution code\n",
    "cut_dict = {\n",
    "    'Good': 1,\n",
    "    'Very Good':2,\n",
    "    'Fair':3,\n",
    "    'Ideal':4,\n",
    "    'Premium':5\n",
    "}\n",
    "cutlist = df['cut'].to_numpy()\n",
    "cutlist = [cut_dict[letter] for letter in cutlist]\n",
    "df.drop('cut', axis = 1) \n",
    "df['cut'] = cutlist\n",
    "\n",
    "\n",
    "color_dict ={\n",
    "    'J':1,\n",
    "    'I':2,\n",
    "    'H':3,\n",
    "    'G':4,\n",
    "    'F':5,\n",
    "    'E':6,\n",
    "    'D':7\n",
    "}\n",
    "colorlist = df['color'].to_numpy()\n",
    "colorlist = [color_dict[letter] for letter in colorlist]\n",
    "df.drop('color', axis = 1) \n",
    "df['color'] = colorlist\n",
    "\n",
    "clarity_dict = {\n",
    "    'I1':1,\n",
    "    'SI1':2,\n",
    "    'SI2':3,\n",
    "    'VS1':4, \n",
    "    'VS2':5,\n",
    "    'VVS1':6,\n",
    "    'VVS2':7,\n",
    "    'IF':8\n",
    "}\n",
    "claritylist = df['clarity'].to_numpy()\n",
    "claritylist = [clarity_dict[letter] for letter in claritylist]\n",
    "df.drop('clarity', axis = 1) \n",
    "df['clarity'] = claritylist\n",
    "df\n",
    "\n"
   ]
  },
  {
   "cell_type": "markdown",
   "id": "7ae4a96e",
   "metadata": {
    "id": "7ae4a96e"
   },
   "source": [
    "### Question 5)\n",
    "Create bar graphs for 'cut', 'color', and 'clarity' attributes with their new values to analyze the dataset visually.\n"
   ]
  },
  {
   "cell_type": "code",
   "execution_count": 8,
   "id": "705c1add",
   "metadata": {},
   "outputs": [
    {
     "data": {
      "text/plain": [
       "Text(0.5, 0, 'clarity')"
      ]
     },
     "execution_count": 8,
     "metadata": {},
     "output_type": "execute_result"
    },
    {
     "data": {
      "image/png": "[encoded data removed]",
      "text/plain": [
       "<Figure size 720x360 with 1 Axes>"
      ]
     },
     "metadata": {
      "needs_background": "light"
     },
     "output_type": "display_data"
    },
    {
     "data": {
      "image/png": "[encoded data removed]",
      "text/plain": [
       "<Figure size 720x360 with 1 Axes>"
      ]
     },
     "metadata": {
      "needs_background": "light"
     },
     "output_type": "display_data"
    },
    {
     "data": {
      "image/png": "[encoded data removed]",
      "text/plain": [
       "<Figure size 720x360 with 1 Axes>"
      ]
     },
     "metadata": {
      "needs_background": "light"
     },
     "output_type": "display_data"
    }
   ],
   "source": [
    "# solution code\n",
    "plt.rcParams[\"figure.figsize\"] = [10.0,5.0]\n",
    "df2 = df.groupby(['cut']).size().reset_index(name='count')\n",
    "plot = df2.plot.bar(x= 'cut',y = 'count')\n",
    "plot.set_ylabel(\"count\")\n",
    "plot.set_xlabel(\"cut\")\n",
    "\n",
    "df2 = df.groupby(['color']).size().reset_index(name='count')\n",
    "plot = df2.plot.bar(x= 'color',y = 'count',color = \"r\")\n",
    "plot.set_ylabel(\"count\")\n",
    "plot.set_xlabel(\"color\")\n",
    "\n",
    "df2 = df.groupby(['clarity']).size().reset_index(name='count')\n",
    "plot = df2.plot.bar(x= 'clarity',y = 'count',color = \"b\")\n",
    "plot.set_ylabel(\"count\")\n",
    "plot.set_xlabel(\"clarity\")\n",
    "\n"
   ]
  },
  {
   "cell_type": "markdown",
   "id": "e10afa32",
   "metadata": {
    "id": "e10afa32"
   },
   "source": [
    "### Question 6)\n",
    "Shuffle the data points and split the dataset into training and testing set, with a 0.7-0.3 ratio (training set will be %70, and test set will be %30 of the dataset) (Write your own shuffling and spliting code here, do not use predefined function train_test_split).\n",
    "\n"
   ]
  },
  {
   "cell_type": "code",
   "execution_count": 9,
   "id": "c5b05a08",
   "metadata": {},
   "outputs": [],
   "source": [
    "# solution code\n",
    "\n",
    "train=df.sample(frac=0.7, random_state=100)\n",
    "test = df[~df.index.isin(train.index)]\n",
    "\n",
    "\n",
    "X= df.drop('price',axis =1)\n",
    "y = df['price']\n",
    "\n",
    "x_train = train.drop('price', axis=1)\n",
    "y_train = train['price']\n",
    "\n",
    "x_test = test.drop('price', axis = 1)\n",
    "y_test = test['price']"
   ]
  },
  {
   "cell_type": "markdown",
   "id": "9caf4c9a",
   "metadata": {
    "id": "9caf4c9a"
   },
   "source": [
    "### Question 7)\n",
    "\n",
    "Create an instance of kNN with a number of neighbors between 1-30, then fit kNN regression model to train data. Then, make prediction and calculate mean squared error (MSE). Calculate MSE for k value between 1-30 and print them. Finally, create elbow function to find best k value and plot the elbow curve. Explain how you find the best k-value."
   ]
  },
  {
   "cell_type": "code",
   "execution_count": 10,
   "id": "74f8f47f",
   "metadata": {},
   "outputs": [
    {
     "name": "stdout",
     "output_type": "stream",
     "text": [
      "MSE value for k=  1 is: 793041.2869007913\n",
      "MSE value for k=  2 is: 646101.3039860048\n",
      "MSE value for k=  3 is: 610244.4135039494\n",
      "MSE value for k=  4 is: 591597.5726898175\n",
      "MSE value for k=  5 is: 583654.2140317834\n",
      "MSE value for k=  6 is: 583604.0848084204\n",
      "MSE value for k=  7 is: 583504.5028701691\n",
      "MSE value for k=  8 is: 577811.3156104898\n",
      "MSE value for k=  9 is: 589203.3324613607\n",
      "MSE value for k=  10 is: 596881.0126211497\n",
      "MSE value for k=  11 is: 600191.9484523657\n",
      "MSE value for k=  12 is: 608897.8484461629\n",
      "MSE value for k=  13 is: 614171.8508802989\n",
      "MSE value for k=  14 is: 618663.414058423\n",
      "MSE value for k=  15 is: 624711.8374366912\n",
      "MSE value for k=  16 is: 626493.4593365276\n",
      "MSE value for k=  17 is: 630495.4570332097\n",
      "MSE value for k=  18 is: 632557.8958495314\n",
      "MSE value for k=  19 is: 640157.5822308526\n",
      "MSE value for k=  20 is: 645740.5830150088\n",
      "MSE value for k=  21 is: 646745.9896907033\n",
      "MSE value for k=  22 is: 650697.2062879584\n",
      "MSE value for k=  23 is: 651961.906754767\n",
      "MSE value for k=  24 is: 655329.1054070704\n",
      "MSE value for k=  25 is: 661281.2502888235\n",
      "MSE value for k=  26 is: 665278.4604214723\n",
      "MSE value for k=  27 is: 667973.661339201\n",
      "MSE value for k=  28 is: 671635.0448950231\n",
      "MSE value for k=  29 is: 674752.8893885105\n",
      "MSE value for k=  30 is: 680786.2126755028\n"
     ]
    }
   ],
   "source": [
    "# solution code\n",
    "from sklearn.preprocessing import MinMaxScaler\n",
    "from sklearn import neighbors\n",
    "from sklearn.metrics import mean_squared_error \n",
    "\n",
    "scaler = MinMaxScaler(feature_range=(0, 1))\n",
    "\n",
    "x_train_scaled = scaler.fit_transform(x_train)\n",
    "x_train = pd.DataFrame(x_train_scaled)\n",
    "\n",
    "x_test_scaled = scaler.fit_transform(x_test)\n",
    "x_test = pd.DataFrame(x_test_scaled)\n",
    "\n",
    "mse_val = [] #to store mse values for different k\n",
    "for K in range(30):\n",
    "    K = K+1\n",
    "    model = neighbors.KNeighborsRegressor(n_neighbors = K)\n",
    "\n",
    "    model.fit(x_train, y_train)  #fit the model\n",
    "    pred=model.predict(x_test) #make prediction on test set\n",
    "    error = mean_squared_error(y_test,pred) #calculate mse\n",
    "    mse_val.append(error) #store mse values\n",
    "    print('MSE value for k= ' , K , 'is:', error)"
   ]
  },
  {
   "cell_type": "code",
   "execution_count": 11,
   "id": "a60440b9",
   "metadata": {},
   "outputs": [
    {
     "data": {
      "text/plain": [
       "<AxesSubplot:>"
      ]
     },
     "execution_count": 11,
     "metadata": {},
     "output_type": "execute_result"
    },
    {
     "data": {
      "image/png": "[encoded data removed]",
      "text/plain": [
       "<Figure size 720x360 with 1 Axes>"
      ]
     },
     "metadata": {
      "needs_background": "light"
     },
     "output_type": "display_data"
    }
   ],
   "source": [
    "elbow = pd.DataFrame(mse_val) #elbow curve \n",
    "elbow.plot()\n",
    "\n",
    "# BEST k value is k=5. When we look at the elbow curve, the minimum error value occurs when k=5. To get this curve I used\n",
    "# knn regression model. According to the k value, I create a model and then I used libraries for making prediction.Then,\n",
    "# I calculate the mse value with  mean_squared_error() function."
   ]
  },
  {
   "cell_type": "markdown",
   "id": "216ff5b6",
   "metadata": {
    "id": "216ff5b6"
   },
   "source": [
    "### Question 8)\n",
    "\n",
    "Run 10-Fold Cross validation (CV) and print accuracy values for each run of CV. Also print the final average accuracy of the model."
   ]
  },
  {
   "cell_type": "code",
   "execution_count": 12,
   "id": "57e814d1",
   "metadata": {},
   "outputs": [
    {
     "name": "stdout",
     "output_type": "stream",
     "text": [
      "Accuracy for run = 1 is:  0.9602403381284725\n",
      "Accuracy for run = 2 is:  0.9619381845084771\n",
      "Accuracy for run = 3 is:  0.9527816458098353\n",
      "Accuracy for run = 4 is:  0.9623294999173567\n",
      "Accuracy for run = 5 is:  0.9609513054502079\n",
      "Accuracy for run = 6 is:  0.9588366874098904\n",
      "Accuracy for run = 7 is:  0.9665658563547139\n",
      "Accuracy for run = 8 is:  0.9603683484886774\n",
      "Accuracy for run = 9 is:  0.9580075518467444\n",
      "Accuracy for run = 10 is:  0.962389908141321\n",
      "cv_accuracy average is:0.9604409326055696\n"
     ]
    }
   ],
   "source": [
    "# solution code\n",
    "from sklearn.model_selection import cross_val_score\n",
    "knn_cv = neighbors.KNeighborsRegressor(n_neighbors = 8) # our most successful k value is 5 and defaultly kNeighborsClassifier() function takes n as 5.\n",
    "knn_cv.fit(x_train,y_train)\n",
    "cv_accuracy = cross_val_score(knn_cv, x_train, y_train, cv=10)\n",
    "for i in range(0,10):\n",
    "    print(\"Accuracy for run = {} is: \".format(i+1), cv_accuracy[i])\n",
    "print('cv_accuracy average is:{}'.format(np.mean(cv_accuracy)))"
   ]
  },
  {
   "cell_type": "markdown",
   "id": "1b187edb",
   "metadata": {},
   "source": [
    "### Question 9)\n",
    "\n",
    "Predict the price of new jewel data with the following custom features. \n",
    "\n",
    "features_array: [0.3,3.90,2.98,2.56,2,2,2]"
   ]
  },
  {
   "cell_type": "code",
   "execution_count": 13,
   "id": "2f6dd9e6",
   "metadata": {},
   "outputs": [
    {
     "ename": "NameError",
     "evalue": "name 'KNeighborsRegressor' is not defined",
     "output_type": "error",
     "traceback": [
      "\u001b[1;31m---------------------------------------------------------------------------\u001b[0m",
      "\u001b[1;31mNameError\u001b[0m                                 Traceback (most recent call last)",
      "\u001b[1;32m<ipython-input-13-d7d83ebd66a8>\u001b[0m in \u001b[0;36m<module>\u001b[1;34m\u001b[0m\n\u001b[0;32m      1\u001b[0m \u001b[1;31m# solution code\u001b[0m\u001b[1;33m\u001b[0m\u001b[1;33m\u001b[0m\u001b[1;33m\u001b[0m\u001b[0m\n\u001b[1;32m----> 2\u001b[1;33m \u001b[0mknn\u001b[0m \u001b[1;33m=\u001b[0m \u001b[0mKNeighborsRegressor\u001b[0m\u001b[1;33m(\u001b[0m\u001b[1;33m)\u001b[0m\u001b[1;33m\u001b[0m\u001b[1;33m\u001b[0m\u001b[0m\n\u001b[0m\u001b[0;32m      3\u001b[0m \u001b[0mknn\u001b[0m\u001b[1;33m.\u001b[0m\u001b[0mfit\u001b[0m\u001b[1;33m(\u001b[0m\u001b[0mx_train\u001b[0m\u001b[1;33m,\u001b[0m \u001b[0my_train\u001b[0m\u001b[1;33m)\u001b[0m\u001b[1;33m\u001b[0m\u001b[1;33m\u001b[0m\u001b[0m\n\u001b[0;32m      4\u001b[0m \u001b[0mtest_set\u001b[0m \u001b[1;33m=\u001b[0m \u001b[1;33m[\u001b[0m\u001b[1;33m[\u001b[0m\u001b[1;36m0.3\u001b[0m\u001b[1;33m,\u001b[0m\u001b[1;36m2\u001b[0m\u001b[1;33m,\u001b[0m\u001b[1;36m2\u001b[0m\u001b[1;33m,\u001b[0m\u001b[1;36m2\u001b[0m\u001b[1;33m,\u001b[0m\u001b[1;36m62.4\u001b[0m\u001b[1;33m,\u001b[0m\u001b[1;36m55\u001b[0m\u001b[1;33m,\u001b[0m\u001b[1;36m3.9\u001b[0m\u001b[1;33m,\u001b[0m\u001b[1;36m2.98\u001b[0m\u001b[1;33m,\u001b[0m\u001b[1;36m2.56\u001b[0m\u001b[1;33m]\u001b[0m\u001b[1;33m]\u001b[0m\u001b[1;33m\u001b[0m\u001b[1;33m\u001b[0m\u001b[0m\n\u001b[0;32m      5\u001b[0m \u001b[0mprediction\u001b[0m \u001b[1;33m=\u001b[0m \u001b[0mknn\u001b[0m\u001b[1;33m.\u001b[0m\u001b[0mpredict\u001b[0m\u001b[1;33m(\u001b[0m\u001b[0mtest_set\u001b[0m\u001b[1;33m)\u001b[0m\u001b[1;33m\u001b[0m\u001b[1;33m\u001b[0m\u001b[0m\n",
      "\u001b[1;31mNameError\u001b[0m: name 'KNeighborsRegressor' is not defined"
     ]
    }
   ],
   "source": [
    "# solution code\n",
    "knn = KNeighborsRegressor()\n",
    "knn.fit(x_train, y_train)\n",
    "test_set = [[0.3,2,2,2,62.4,55,3.9,2.98,2.56]]\n",
    "prediction = knn.predict(test_set)\n",
    "print(\"Prediction of price with given values is: \",prediction[0])\n"
   ]
  },
  {
   "cell_type": "code",
   "execution_count": 15,
   "id": "03cee198",
   "metadata": {},
   "outputs": [
    {
     "data": {
      "text/plain": [
       "price      1.000000\n",
       "carat      0.926776\n",
       "y          0.891257\n",
       "x          0.890111\n",
       "z          0.887423\n",
       "table      0.139334\n",
       "cut        0.026711\n",
       "depth     -0.007446\n",
       "clarity   -0.103359\n",
       "color     -0.169911\n",
       "Name: price, dtype: float64"
      ]
     },
     "execution_count": 15,
     "metadata": {},
     "output_type": "execute_result"
    }
   ],
   "source": [
    "correlations = train.corr() # To see the impacts of the attributes to the predicting.\n",
    "p = correlations['price']\n",
    "p.sort_values(ascending = False).head(10)"
   ]
  }
 ],
 "metadata": {
  "colab": {
   "provenance": []
  },
  "kernelspec": {
   "display_name": "Python 3",
   "language": "python",
   "name": "python3"
  },
  "language_info": {
   "codemirror_mode": {
    "name": "ipython",
    "version": 3
   },
   "file_extension": ".py",
   "mimetype": "text/x-python",
   "name": "python",
   "nbconvert_exporter": "python",
   "pygments_lexer": "ipython3",
   "version": "3.8.8"
  }
 },
 "nbformat": 4,
 "nbformat_minor": 5
}
